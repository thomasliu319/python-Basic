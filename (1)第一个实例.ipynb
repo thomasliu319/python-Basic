{
 "cells": [
  {
   "cell_type": "markdown",
   "source": [
    "环境搭建：\n",
    ".安装pyenv做本地环境管理\n",
    ".将本地目录设置为需要的python版本\n",
    ".安装langchain包\n",
    "\n",
    "环境测试"
   ],
   "metadata": {
    "collapsed": false
   }
  },
  {
   "cell_type": "code",
   "execution_count": 1,
   "outputs": [
    {
     "name": "stdout",
     "output_type": "stream",
     "text": [
      "hello world!\n"
     ]
    }
   ],
   "source": [
    "print(\"hello world!\")"
   ],
   "metadata": {
    "collapsed": false,
    "ExecuteTime": {
     "start_time": "2024-07-22T11:03:23.938168Z",
     "end_time": "2024-07-22T11:03:23.943701Z"
    }
   }
  },
  {
   "cell_type": "code",
   "execution_count": 2,
   "outputs": [
    {
     "name": "stdout",
     "output_type": "stream",
     "text": [
      "\u001B[33mWARNING: The directory '/Users/thomasliu/Library/Caches/pip' or its parent directory is not owned or is not writable by the current user. The cache has been disabled. Check the permissions and owner of that directory. If executing pip with sudo, you should use sudo's -H flag.\u001B[0m\u001B[33m\r\n",
      "\u001B[0m\u001B[33mWARNING: Skipping langchain as it is not installed.\u001B[0m\u001B[33m\r\n",
      "\u001B[0m\u001B[33mWARNING: The directory '/Users/thomasliu/Library/Caches/pip' or its parent directory is not owned or is not writable by the current user. The cache has been disabled. Check the permissions and owner of that directory. If executing pip with sudo, you should use sudo's -H flag.\u001B[0m\u001B[33m\r\n",
      "\u001B[0m\u001B[33mWARNING: Skipping openai as it is not installed.\u001B[0m\u001B[33m\r\n",
      "\u001B[0m"
     ]
    }
   ],
   "source": [
    "! pip uninstall langchain -y\n",
    "! pip uninstall openai -y"
   ],
   "metadata": {
    "collapsed": false,
    "ExecuteTime": {
     "start_time": "2024-07-22T11:04:08.630421Z",
     "end_time": "2024-07-22T11:04:10.931894Z"
    }
   }
  },
  {
   "cell_type": "code",
   "execution_count": 3,
   "outputs": [
    {
     "name": "stdout",
     "output_type": "stream",
     "text": [
      "\u001B[33mWARNING: The directory '/Users/thomasliu/Library/Caches/pip' or its parent directory is not owned or is not writable by the current user. The cache has been disabled. Check the permissions and owner of that directory. If executing pip with sudo, you should use sudo's -H flag.\u001B[0m\u001B[33m\r\n",
      "\u001B[0mCollecting langchain==0.0.279\r\n",
      "  Downloading langchain-0.0.279-py3-none-any.whl (1.6 MB)\r\n",
      "\u001B[2K     \u001B[90m━━━━━━━━━━━━━━━━━━━━━━━━━━━━━━━━━━━━━━━━\u001B[0m \u001B[32m1.6/1.6 MB\u001B[0m \u001B[31m1.6 MB/s\u001B[0m eta \u001B[36m0:00:00\u001B[0ma \u001B[36m0:00:01\u001B[0m0m\r\n",
      "\u001B[?25hCollecting dataclasses-json<0.6.0,>=0.5.7\r\n",
      "  Downloading dataclasses_json-0.5.14-py3-none-any.whl (26 kB)\r\n",
      "Collecting tenacity<9.0.0,>=8.1.0\r\n",
      "  Downloading tenacity-8.5.0-py3-none-any.whl (28 kB)\r\n",
      "Requirement already satisfied: numpy<2,>=1 in /Users/thomasliu/anaconda3/lib/python3.10/site-packages (from langchain==0.0.279) (1.23.5)\r\n",
      "Requirement already satisfied: requests<3,>=2 in /Users/thomasliu/anaconda3/lib/python3.10/site-packages (from langchain==0.0.279) (2.28.1)\r\n",
      "Requirement already satisfied: numexpr<3.0.0,>=2.8.4 in /Users/thomasliu/anaconda3/lib/python3.10/site-packages (from langchain==0.0.279) (2.8.4)\r\n",
      "Collecting pydantic<3,>=1\r\n",
      "  Downloading pydantic-2.8.2-py3-none-any.whl (423 kB)\r\n",
      "\u001B[2K     \u001B[90m━━━━━━━━━━━━━━━━━━━━━━━━━━━━━━━━━━━━━━\u001B[0m \u001B[32m423.9/423.9 kB\u001B[0m \u001B[31m20.1 MB/s\u001B[0m eta \u001B[36m0:00:00\u001B[0m\r\n",
      "\u001B[?25hRequirement already satisfied: SQLAlchemy<3,>=1.4 in /Users/thomasliu/anaconda3/lib/python3.10/site-packages (from langchain==0.0.279) (1.4.39)\r\n",
      "Collecting langsmith<0.1.0,>=0.0.21\r\n",
      "  Downloading langsmith-0.0.92-py3-none-any.whl (56 kB)\r\n",
      "\u001B[2K     \u001B[90m━━━━━━━━━━━━━━━━━━━━━━━━━━━━━━━━━━━━━━━━\u001B[0m \u001B[32m56.5/56.5 kB\u001B[0m \u001B[31m27.9 MB/s\u001B[0m eta \u001B[36m0:00:00\u001B[0m\r\n",
      "\u001B[?25hCollecting aiohttp<4.0.0,>=3.8.3\r\n",
      "  Downloading aiohttp-3.9.5-cp310-cp310-macosx_11_0_arm64.whl (389 kB)\r\n",
      "\u001B[2K     \u001B[90m━━━━━━━━━━━━━━━━━━━━━━━━━━━━━━━━━━━━━━\u001B[0m \u001B[32m389.9/389.9 kB\u001B[0m \u001B[31m17.4 MB/s\u001B[0m eta \u001B[36m0:00:00\u001B[0m\r\n",
      "\u001B[?25hCollecting async-timeout<5.0.0,>=4.0.0\r\n",
      "  Downloading async_timeout-4.0.3-py3-none-any.whl (5.7 kB)\r\n",
      "Requirement already satisfied: PyYAML>=5.3 in /Users/thomasliu/anaconda3/lib/python3.10/site-packages (from langchain==0.0.279) (6.0)\r\n",
      "Requirement already satisfied: attrs>=17.3.0 in /Users/thomasliu/anaconda3/lib/python3.10/site-packages (from aiohttp<4.0.0,>=3.8.3->langchain==0.0.279) (22.1.0)\r\n",
      "Collecting aiosignal>=1.1.2\r\n",
      "  Downloading aiosignal-1.3.1-py3-none-any.whl (7.6 kB)\r\n",
      "Collecting yarl<2.0,>=1.0\r\n",
      "  Downloading yarl-1.9.4-cp310-cp310-macosx_11_0_arm64.whl (79 kB)\r\n",
      "\u001B[2K     \u001B[90m━━━━━━━━━━━━━━━━━━━━━━━━━━━━━━━━━━━━━━━━\u001B[0m \u001B[32m79.2/79.2 kB\u001B[0m \u001B[31m27.9 MB/s\u001B[0m eta \u001B[36m0:00:00\u001B[0m\r\n",
      "\u001B[?25hCollecting multidict<7.0,>=4.5\r\n",
      "  Downloading multidict-6.0.5-cp310-cp310-macosx_11_0_arm64.whl (30 kB)\r\n",
      "Collecting frozenlist>=1.1.1\r\n",
      "  Downloading frozenlist-1.4.1-cp310-cp310-macosx_11_0_arm64.whl (52 kB)\r\n",
      "\u001B[2K     \u001B[90m━━━━━━━━━━━━━━━━━━━━━━━━━━━━━━━━━━━━━━━━\u001B[0m \u001B[32m52.2/52.2 kB\u001B[0m \u001B[31m31.6 MB/s\u001B[0m eta \u001B[36m0:00:00\u001B[0m\r\n",
      "\u001B[?25hCollecting typing-inspect<1,>=0.4.0\r\n",
      "  Downloading typing_inspect-0.9.0-py3-none-any.whl (8.8 kB)\r\n",
      "Collecting marshmallow<4.0.0,>=3.18.0\r\n",
      "  Downloading marshmallow-3.21.3-py3-none-any.whl (49 kB)\r\n",
      "\u001B[2K     \u001B[90m━━━━━━━━━━━━━━━━━━━━━━━━━━━━━━━━━━━━━━━\u001B[0m \u001B[32m49.2/49.2 kB\u001B[0m \u001B[31m118.2 MB/s\u001B[0m eta \u001B[36m0:00:00\u001B[0m\r\n",
      "\u001B[?25hCollecting annotated-types>=0.4.0\r\n",
      "  Downloading annotated_types-0.7.0-py3-none-any.whl (13 kB)\r\n",
      "Collecting typing-extensions>=4.6.1\r\n",
      "  Downloading typing_extensions-4.12.2-py3-none-any.whl (37 kB)\r\n",
      "Collecting pydantic-core==2.20.1\r\n",
      "  Downloading pydantic_core-2.20.1-cp310-cp310-macosx_11_0_arm64.whl (1.8 MB)\r\n",
      "\u001B[2K     \u001B[90m━━━━━━━━━━━━━━━━━━━━━━━━━━━━━━━━━━━━━━━━\u001B[0m \u001B[32m1.8/1.8 MB\u001B[0m \u001B[31m9.1 MB/s\u001B[0m eta \u001B[36m0:00:00\u001B[0mta \u001B[36m0:00:01\u001B[0m\r\n",
      "\u001B[?25hRequirement already satisfied: urllib3<1.27,>=1.21.1 in /Users/thomasliu/anaconda3/lib/python3.10/site-packages (from requests<3,>=2->langchain==0.0.279) (1.26.14)\r\n",
      "Requirement already satisfied: idna<4,>=2.5 in /Users/thomasliu/anaconda3/lib/python3.10/site-packages (from requests<3,>=2->langchain==0.0.279) (3.4)\r\n",
      "Requirement already satisfied: certifi>=2017.4.17 in /Users/thomasliu/anaconda3/lib/python3.10/site-packages (from requests<3,>=2->langchain==0.0.279) (2022.12.7)\r\n",
      "Requirement already satisfied: charset-normalizer<3,>=2 in /Users/thomasliu/anaconda3/lib/python3.10/site-packages (from requests<3,>=2->langchain==0.0.279) (2.0.4)\r\n",
      "Requirement already satisfied: packaging>=17.0 in /Users/thomasliu/anaconda3/lib/python3.10/site-packages (from marshmallow<4.0.0,>=3.18.0->dataclasses-json<0.6.0,>=0.5.7->langchain==0.0.279) (22.0)\r\n",
      "Requirement already satisfied: mypy-extensions>=0.3.0 in /Users/thomasliu/anaconda3/lib/python3.10/site-packages (from typing-inspect<1,>=0.4.0->dataclasses-json<0.6.0,>=0.5.7->langchain==0.0.279) (0.4.3)\r\n",
      "Installing collected packages: typing-extensions, tenacity, multidict, marshmallow, frozenlist, async-timeout, annotated-types, yarl, typing-inspect, pydantic-core, aiosignal, pydantic, dataclasses-json, aiohttp, langsmith, langchain\r\n",
      "  Attempting uninstall: typing-extensions\r\n",
      "    Found existing installation: typing_extensions 4.4.0\r\n",
      "    Uninstalling typing_extensions-4.4.0:\r\n",
      "      Successfully uninstalled typing_extensions-4.4.0\r\n",
      "  Attempting uninstall: tenacity\r\n",
      "    Found existing installation: tenacity 8.0.1\r\n",
      "    Uninstalling tenacity-8.0.1:\r\n",
      "      Successfully uninstalled tenacity-8.0.1\r\n",
      "Successfully installed aiohttp-3.9.5 aiosignal-1.3.1 annotated-types-0.7.0 async-timeout-4.0.3 dataclasses-json-0.5.14 frozenlist-1.4.1 langchain-0.0.279 langsmith-0.0.92 marshmallow-3.21.3 multidict-6.0.5 pydantic-2.8.2 pydantic-core-2.20.1 tenacity-8.5.0 typing-extensions-4.12.2 typing-inspect-0.9.0 yarl-1.9.4\r\n"
     ]
    }
   ],
   "source": [
    "! pip install --upgrade langchain==0.0.279 -i https://pypi.org/simple"
   ],
   "metadata": {
    "collapsed": false,
    "ExecuteTime": {
     "start_time": "2024-07-22T11:05:30.394013Z",
     "end_time": "2024-07-22T11:05:46.553419Z"
    }
   }
  },
  {
   "cell_type": "code",
   "execution_count": 4,
   "outputs": [
    {
     "name": "stdout",
     "output_type": "stream",
     "text": [
      "\u001B[33mWARNING: The directory '/Users/thomasliu/Library/Caches/pip' or its parent directory is not owned or is not writable by the current user. The cache has been disabled. Check the permissions and owner of that directory. If executing pip with sudo, you should use sudo's -H flag.\u001B[0m\u001B[33m\r\n",
      "\u001B[0mCollecting openai==v0.28.1\r\n",
      "  Downloading openai-0.28.1-py3-none-any.whl (76 kB)\r\n",
      "\u001B[2K     \u001B[90m━━━━━━━━━━━━━━━━━━━━━━━━━━━━━━━━━━━━━━━\u001B[0m \u001B[32m77.0/77.0 kB\u001B[0m \u001B[31m304.5 kB/s\u001B[0m eta \u001B[36m0:00:00\u001B[0ma \u001B[36m0:00:01\u001B[0m\r\n",
      "\u001B[?25hRequirement already satisfied: requests>=2.20 in /Users/thomasliu/anaconda3/lib/python3.10/site-packages (from openai==v0.28.1) (2.28.1)\r\n",
      "Requirement already satisfied: tqdm in /Users/thomasliu/anaconda3/lib/python3.10/site-packages (from openai==v0.28.1) (4.64.1)\r\n",
      "Requirement already satisfied: aiohttp in /Users/thomasliu/anaconda3/lib/python3.10/site-packages (from openai==v0.28.1) (3.9.5)\r\n",
      "Requirement already satisfied: urllib3<1.27,>=1.21.1 in /Users/thomasliu/anaconda3/lib/python3.10/site-packages (from requests>=2.20->openai==v0.28.1) (1.26.14)\r\n",
      "Requirement already satisfied: certifi>=2017.4.17 in /Users/thomasliu/anaconda3/lib/python3.10/site-packages (from requests>=2.20->openai==v0.28.1) (2022.12.7)\r\n",
      "Requirement already satisfied: idna<4,>=2.5 in /Users/thomasliu/anaconda3/lib/python3.10/site-packages (from requests>=2.20->openai==v0.28.1) (3.4)\r\n",
      "Requirement already satisfied: charset-normalizer<3,>=2 in /Users/thomasliu/anaconda3/lib/python3.10/site-packages (from requests>=2.20->openai==v0.28.1) (2.0.4)\r\n",
      "Requirement already satisfied: multidict<7.0,>=4.5 in /Users/thomasliu/anaconda3/lib/python3.10/site-packages (from aiohttp->openai==v0.28.1) (6.0.5)\r\n",
      "Requirement already satisfied: aiosignal>=1.1.2 in /Users/thomasliu/anaconda3/lib/python3.10/site-packages (from aiohttp->openai==v0.28.1) (1.3.1)\r\n",
      "Requirement already satisfied: frozenlist>=1.1.1 in /Users/thomasliu/anaconda3/lib/python3.10/site-packages (from aiohttp->openai==v0.28.1) (1.4.1)\r\n",
      "Requirement already satisfied: attrs>=17.3.0 in /Users/thomasliu/anaconda3/lib/python3.10/site-packages (from aiohttp->openai==v0.28.1) (22.1.0)\r\n",
      "Requirement already satisfied: async-timeout<5.0,>=4.0 in /Users/thomasliu/anaconda3/lib/python3.10/site-packages (from aiohttp->openai==v0.28.1) (4.0.3)\r\n",
      "Requirement already satisfied: yarl<2.0,>=1.0 in /Users/thomasliu/anaconda3/lib/python3.10/site-packages (from aiohttp->openai==v0.28.1) (1.9.4)\r\n",
      "Installing collected packages: openai\r\n",
      "Successfully installed openai-0.28.1\r\n"
     ]
    }
   ],
   "source": [
    "! pip install openai==v0.28.1 -i https://pypi.org/simple"
   ],
   "metadata": {
    "collapsed": false,
    "ExecuteTime": {
     "start_time": "2024-07-22T11:06:19.169842Z",
     "end_time": "2024-07-22T11:06:24.195594Z"
    }
   }
  },
  {
   "cell_type": "code",
   "execution_count": 5,
   "outputs": [
    {
     "name": "stdout",
     "output_type": "stream",
     "text": [
      "\u001B[33mWARNING: The directory '/Users/thomasliu/Library/Caches/pip' or its parent directory is not owned or is not writable by the current user. The cache has been disabled. Check the permissions and owner of that directory. If executing pip with sudo, you should use sudo's -H flag.\u001B[0m\u001B[33m\r\n",
      "\u001B[0mCollecting openai==0.27.8\r\n",
      "  Downloading openai-0.27.8-py3-none-any.whl (73 kB)\r\n",
      "\u001B[2K     \u001B[90m━━━━━━━━━━━━━━━━━━━━━━━━━━━━━━━━━━━━━━━\u001B[0m \u001B[32m73.6/73.6 kB\u001B[0m \u001B[31m279.1 kB/s\u001B[0m eta \u001B[36m0:00:00\u001B[0ma \u001B[36m0:00:01\u001B[0m\r\n",
      "\u001B[?25hRequirement already satisfied: aiohttp in /Users/thomasliu/anaconda3/lib/python3.10/site-packages (from openai==0.27.8) (3.9.5)\r\n",
      "Requirement already satisfied: tqdm in /Users/thomasliu/anaconda3/lib/python3.10/site-packages (from openai==0.27.8) (4.64.1)\r\n",
      "Requirement already satisfied: requests>=2.20 in /Users/thomasliu/anaconda3/lib/python3.10/site-packages (from openai==0.27.8) (2.28.1)\r\n",
      "Requirement already satisfied: certifi>=2017.4.17 in /Users/thomasliu/anaconda3/lib/python3.10/site-packages (from requests>=2.20->openai==0.27.8) (2022.12.7)\r\n",
      "Requirement already satisfied: urllib3<1.27,>=1.21.1 in /Users/thomasliu/anaconda3/lib/python3.10/site-packages (from requests>=2.20->openai==0.27.8) (1.26.14)\r\n",
      "Requirement already satisfied: idna<4,>=2.5 in /Users/thomasliu/anaconda3/lib/python3.10/site-packages (from requests>=2.20->openai==0.27.8) (3.4)\r\n",
      "Requirement already satisfied: charset-normalizer<3,>=2 in /Users/thomasliu/anaconda3/lib/python3.10/site-packages (from requests>=2.20->openai==0.27.8) (2.0.4)\r\n",
      "Requirement already satisfied: frozenlist>=1.1.1 in /Users/thomasliu/anaconda3/lib/python3.10/site-packages (from aiohttp->openai==0.27.8) (1.4.1)\r\n",
      "Requirement already satisfied: attrs>=17.3.0 in /Users/thomasliu/anaconda3/lib/python3.10/site-packages (from aiohttp->openai==0.27.8) (22.1.0)\r\n",
      "Requirement already satisfied: aiosignal>=1.1.2 in /Users/thomasliu/anaconda3/lib/python3.10/site-packages (from aiohttp->openai==0.27.8) (1.3.1)\r\n",
      "Requirement already satisfied: multidict<7.0,>=4.5 in /Users/thomasliu/anaconda3/lib/python3.10/site-packages (from aiohttp->openai==0.27.8) (6.0.5)\r\n",
      "Requirement already satisfied: async-timeout<5.0,>=4.0 in /Users/thomasliu/anaconda3/lib/python3.10/site-packages (from aiohttp->openai==0.27.8) (4.0.3)\r\n",
      "Requirement already satisfied: yarl<2.0,>=1.0 in /Users/thomasliu/anaconda3/lib/python3.10/site-packages (from aiohttp->openai==0.27.8) (1.9.4)\r\n",
      "Installing collected packages: openai\r\n",
      "  Attempting uninstall: openai\r\n",
      "    Found existing installation: openai 0.28.1\r\n",
      "    Uninstalling openai-0.28.1:\r\n",
      "      Successfully uninstalled openai-0.28.1\r\n",
      "Successfully installed openai-0.27.8\r\n"
     ]
    }
   ],
   "source": [
    "! pip install --upgrade openai==0.27.8"
   ],
   "metadata": {
    "collapsed": false,
    "ExecuteTime": {
     "start_time": "2024-07-22T11:07:10.475337Z",
     "end_time": "2024-07-22T11:07:15.646032Z"
    }
   }
  },
  {
   "cell_type": "markdown",
   "source": [
    "引入openai key"
   ],
   "metadata": {
    "collapsed": false
   }
  },
  {
   "cell_type": "code",
   "execution_count": 44,
   "outputs": [],
   "source": [
    "import os\n",
    "os.environ[\"OPENAI_KEY\"] = \"sk-Mwt9L7ljUXVAkST9dgU6itxsumV9g4A1Eykxk80QVlAMCJP5\"\n",
    "os.environ[\"OPENAI_API_BASE\"] = \"https://openkey.cloud/v1\""
   ],
   "metadata": {
    "collapsed": false,
    "ExecuteTime": {
     "start_time": "2024-07-26T01:00:07.515005Z",
     "end_time": "2024-07-26T01:00:07.546612Z"
    }
   }
  },
  {
   "cell_type": "markdown",
   "source": [],
   "metadata": {
    "collapsed": false
   }
  },
  {
   "cell_type": "markdown",
   "source": [
    "从环境变量中读取"
   ],
   "metadata": {
    "collapsed": false
   }
  },
  {
   "cell_type": "code",
   "execution_count": 45,
   "outputs": [
    {
     "name": "stdout",
     "output_type": "stream",
     "text": [
      "OPENAI_API_KEY: sk-Mwt9L7ljUXVAkST9dgU6itxsumV9g4A1Eykxk80QVlAMCJP5\n",
      "OPENAI_PROXY: https://openkey.cloud/v1\n"
     ]
    }
   ],
   "source": [
    "import os\n",
    "openai_api_key = os.getenv(\"OPENAI_KEY\")\n",
    "openai_api_base = os.getenv(\"OPENAI_API_BASE\")\n",
    "print(\"OPENAI_API_KEY:\", openai_api_key)\n",
    "print(\"OPENAI_PROXY:\", openai_api_base)"
   ],
   "metadata": {
    "collapsed": false,
    "ExecuteTime": {
     "start_time": "2024-07-26T01:00:11.678785Z",
     "end_time": "2024-07-26T01:00:11.714256Z"
    }
   }
  },
  {
   "cell_type": "markdown",
   "source": [
    "运行前查看下安装情况"
   ],
   "metadata": {
    "collapsed": false
   }
  },
  {
   "cell_type": "code",
   "execution_count": 9,
   "outputs": [
    {
     "name": "stdout",
     "output_type": "stream",
     "text": [
      "\u001B[33mWARNING: The directory '/Users/thomasliu/Library/Caches/pip' or its parent directory is not owned or is not writable by the current user. The cache has been disabled. Check the permissions and owner of that directory. If executing pip with sudo, you should use sudo's -H flag.\u001B[0m\u001B[33m\r\n",
      "\u001B[0mName: langchain\r\n",
      "Version: 0.0.279\r\n",
      "Summary: Building applications with LLMs through composability\r\n",
      "Home-page: https://github.com/langchain-ai/langchain\r\n",
      "Author: \r\n",
      "Author-email: \r\n",
      "License: MIT\r\n",
      "Location: /Users/thomasliu/anaconda3/lib/python3.10/site-packages\r\n",
      "Requires: aiohttp, async-timeout, dataclasses-json, langsmith, numexpr, numpy, pydantic, PyYAML, requests, SQLAlchemy, tenacity\r\n",
      "Required-by: \r\n",
      "\u001B[33mWARNING: The directory '/Users/thomasliu/Library/Caches/pip' or its parent directory is not owned or is not writable by the current user. The cache has been disabled. Check the permissions and owner of that directory. If executing pip with sudo, you should use sudo's -H flag.\u001B[0m\u001B[33m\r\n",
      "\u001B[0mName: openai\r\n",
      "Version: 0.27.8\r\n",
      "Summary: Python client library for the OpenAI API\r\n",
      "Home-page: https://github.com/openai/openai-python\r\n",
      "Author: OpenAI\r\n",
      "Author-email: support@openai.com\r\n",
      "License: \r\n",
      "Location: /Users/thomasliu/anaconda3/lib/python3.10/site-packages\r\n",
      "Requires: aiohttp, requests, tqdm\r\n",
      "Required-by: \r\n"
     ]
    }
   ],
   "source": [
    "! pip show langchain\n",
    "! pip show openai"
   ],
   "metadata": {
    "collapsed": false,
    "ExecuteTime": {
     "start_time": "2024-07-25T09:56:46.961821Z",
     "end_time": "2024-07-25T09:56:50.294702Z"
    }
   }
  },
  {
   "cell_type": "markdown",
   "source": [
    "openai 官方SDK"
   ],
   "metadata": {
    "collapsed": false
   }
  },
  {
   "cell_type": "code",
   "execution_count": 48,
   "outputs": [
    {
     "name": "stdout",
     "output_type": "stream",
     "text": [
      "您好！我是一个人工智能助手，由OpenAI开发。我的名字叫做ChatGPT（代口成章生成预训练变换器）。我被设计来理解和生成自然语言文字，能够在各种主题上跟人们交流，帮助解答问题，提供信息，和大家进行友好的对话。我不是一个真实的人类，而是依赖大量数据和先进算法来理解和回应您的提问。我始终准备着为您提供帮助和娱乐。请随时向我提出您的问题或请求！\n"
     ]
    }
   ],
   "source": [
    "#使用openai的官方sdk\n",
    "import openai\n",
    "import os\n",
    "\n",
    "openai.api_base = os.getenv(\"OPENAI_API_BASE\")\n",
    "openai.api_key = os.getenv(\"OPENAI_KEY\")\n",
    "\n",
    "messages = [\n",
    "{\"role\": \"user\", \"content\": \"介绍下你自己\"}\n",
    "]\n",
    "\n",
    "res = openai.ChatCompletion.create(\n",
    "model=\"gpt-4-1106-preview\",\n",
    "messages=messages,\n",
    "stream=False,\n",
    ")\n",
    "\n",
    "print(res['choices'][0]['message']['content'])"
   ],
   "metadata": {
    "collapsed": false,
    "ExecuteTime": {
     "start_time": "2024-07-26T01:07:27.638081Z",
     "end_time": "2024-07-26T01:07:36.319718Z"
    }
   }
  },
  {
   "cell_type": "markdown",
   "source": [
    "使用langchain调用"
   ],
   "metadata": {
    "collapsed": false
   }
  },
  {
   "cell_type": "code",
   "execution_count": 49,
   "outputs": [
    {
     "data": {
      "text/plain": "'\\n\\n我是一名来自广东的大学生，性格开朗、乐观向上。我喜欢阅读、旅行和运动，对新事物充满好奇心，喜欢不断学习和挑战自己。在校期间，我担任过学生会干部，参加过多项社会实践活动，积累了一定的组织能力和团队合作精神。我也曾在一家公司实习过，学习了一些专业知识和实践经验。我希望能够通过不断努力，提升自己的能力，为将来的工作做好准备。'"
     },
     "execution_count": 49,
     "metadata": {},
     "output_type": "execute_result"
    }
   ],
   "source": [
    "#hello world\n",
    "from langchain.llms import OpenAI\n",
    "import os\n",
    "\n",
    "api_base = os.getenv(\"OPENAI_API_BASE\")\n",
    "api_key = os.getenv(\"OPENAI_KEY\")\n",
    "llm = OpenAI(\n",
    "    model=\"gpt-3.5-turbo-instruct\",\n",
    "    temperature=0,\n",
    "    openai_api_key=api_key,\n",
    "    openai_api_base=api_base\n",
    "    )\n",
    "llm.predict(\"介绍下你自己\")"
   ],
   "metadata": {
    "collapsed": false,
    "ExecuteTime": {
     "start_time": "2024-07-26T01:09:36.402084Z",
     "end_time": "2024-07-26T01:09:58.135348Z"
    }
   }
  },
  {
   "cell_type": "markdown",
   "source": [
    "起名大师"
   ],
   "metadata": {
    "collapsed": false
   }
  },
  {
   "cell_type": "code",
   "execution_count": 51,
   "outputs": [
    {
     "name": "stdout",
     "output_type": "stream",
     "text": [
      "你是一个起名大师,请模仿示例起3个中国特色的名字,比如男孩经常被叫做狗蛋,女孩经常被叫做翠花\n"
     ]
    },
    {
     "data": {
      "text/plain": "'\\n\\n男孩: 龙飞、铁柱、小虎\\n女孩: 玉兰、梅香、小红梅'"
     },
     "execution_count": 51,
     "metadata": {},
     "output_type": "execute_result"
    }
   ],
   "source": [
    "#起名大师\n",
    "from langchain.llms import OpenAI\n",
    "from langchain.prompts import PromptTemplate\n",
    "import os\n",
    "api_base = os.getenv(\"OPENAI_API_BASE\")\n",
    "api_key = os.getenv(\"OPENAI_KEY\")\n",
    "llm = OpenAI(\n",
    "    model=\"gpt-3.5-turbo-instruct\",\n",
    "    temperature=0,\n",
    "    openai_api_key=api_key,\n",
    "    openai_api_base=api_base\n",
    "    )\n",
    "prompt = PromptTemplate.from_template(\"你是一个起名大师,请模仿示例起3个{county}名字,比如男孩经常被叫做{boy},女孩经常被叫做{girl}\")\n",
    "message = prompt.format(county=\"中国特色的\",boy=\"狗蛋\",girl=\"翠花\")\n",
    "print(message)\n",
    "llm.predict(message)"
   ],
   "metadata": {
    "collapsed": false,
    "ExecuteTime": {
     "start_time": "2024-07-26T01:13:49.839501Z",
     "end_time": "2024-07-26T01:13:51.585995Z"
    }
   }
  },
  {
   "cell_type": "markdown",
   "source": [
    "格式化输出"
   ],
   "metadata": {
    "collapsed": false
   }
  },
  {
   "cell_type": "code",
   "execution_count": 52,
   "outputs": [
    {
     "data": {
      "text/plain": "['hi', 'bye']"
     },
     "execution_count": 52,
     "metadata": {},
     "output_type": "execute_result"
    }
   ],
   "source": [
    "from langchain.schema import BaseOutputParser\n",
    "#自定义class，继承了BaseOutputParser\n",
    "class CommaSeparatedListOutputParser(BaseOutputParser):\n",
    "    \"\"\"Parse the output of an LLM call to a comma-separated list.\"\"\"\n",
    "\n",
    "\n",
    "    def parse(self, text: str):\n",
    "        \"\"\"Parse the output of an LLM call.\"\"\"\n",
    "        return text.strip().split(\", \")\n",
    "\n",
    "CommaSeparatedListOutputParser().parse(\"hi, bye\")"
   ],
   "metadata": {
    "collapsed": false,
    "ExecuteTime": {
     "start_time": "2024-07-26T01:16:18.246015Z",
     "end_time": "2024-07-26T01:16:18.290972Z"
    }
   }
  },
  {
   "cell_type": "code",
   "execution_count": 53,
   "outputs": [
    {
     "name": "stdout",
     "output_type": "stream",
     "text": [
      "你是一个起名大师,请模仿示例起3个具有美国男孩特色的名字,示例：男孩常用名sam,女孩常用名lucy。请返回以逗号分隔的列表形式。仅返回逗号分隔的列表，不要返回其他内容。\n",
      "\n",
      "\n",
      "jack, michael, jason\n"
     ]
    },
    {
     "data": {
      "text/plain": "['jack', ' michael', ' jason']"
     },
     "execution_count": 53,
     "metadata": {},
     "output_type": "execute_result"
    }
   ],
   "source": [
    "#起名大师，输出格式为一个数组\n",
    "from langchain.llms import OpenAI\n",
    "from langchain.prompts import PromptTemplate\n",
    "import os\n",
    "from langchain.schema import BaseOutputParser\n",
    "\n",
    "#自定义类\n",
    "class CommaSeparatedListOutputParser(BaseOutputParser):\n",
    "    \"\"\"Parse the output of an LLM call to a comma-separated list.\"\"\"\n",
    "\n",
    "    def parse(self, text: str):\n",
    "        \"\"\"Parse the output of an LLM call.\"\"\"\n",
    "        print(text)\n",
    "        return text.strip().split(\",\")\n",
    "\n",
    "\n",
    "api_base = os.getenv(\"OPENAI_API_BASE\")\n",
    "api_key = os.getenv(\"OPENAI_KEY\")\n",
    "llm = OpenAI(\n",
    "    model=\"gpt-3.5-turbo-instruct\",\n",
    "    temperature=0,\n",
    "    openai_api_key=api_key,\n",
    "    openai_api_base=api_base\n",
    "    )\n",
    "prompt = PromptTemplate.from_template(\"你是一个起名大师,请模仿示例起3个具有{county}特色的名字,示例：男孩常用名{boy},女孩常用名{girl}。请返回以逗号分隔的列表形式。仅返回逗号分隔的列表，不要返回其他内容。\")\n",
    "message = prompt.format(county=\"美国男孩\",boy=\"sam\",girl=\"lucy\")\n",
    "print(message)\n",
    "strs = llm.predict(message)\n",
    "CommaSeparatedListOutputParser().parse(strs)"
   ],
   "metadata": {
    "collapsed": false,
    "ExecuteTime": {
     "start_time": "2024-07-26T01:19:30.864931Z",
     "end_time": "2024-07-26T01:19:32.224679Z"
    }
   }
  },
  {
   "cell_type": "code",
   "execution_count": null,
   "outputs": [],
   "source": [],
   "metadata": {
    "collapsed": false
   }
  }
 ],
 "metadata": {
  "kernelspec": {
   "display_name": "Python 3",
   "language": "python",
   "name": "python3"
  },
  "language_info": {
   "codemirror_mode": {
    "name": "ipython",
    "version": 2
   },
   "file_extension": ".py",
   "mimetype": "text/x-python",
   "name": "python",
   "nbconvert_exporter": "python",
   "pygments_lexer": "ipython2",
   "version": "2.7.6"
  }
 },
 "nbformat": 4,
 "nbformat_minor": 0
}
