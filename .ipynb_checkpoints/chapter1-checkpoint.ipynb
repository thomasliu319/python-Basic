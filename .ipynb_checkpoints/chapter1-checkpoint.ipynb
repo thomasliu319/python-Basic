{
 "cells": [
  {
   "cell_type": "code",
   "execution_count": 1,
   "metadata": {
    "ExecuteTime": {
     "end_time": "2023-06-27T22:31:49.547236Z",
     "start_time": "2023-06-27T22:31:49.534143Z"
    },
    "collapsed": true
   },
   "outputs": [
    {
     "name": "stdout",
     "output_type": "stream",
     "text": [
      "2\n",
      "3\n",
      "4\n"
     ]
    }
   ],
   "source": [
    "#-*- coding:utf-8 -*-\n",
    "\"\"\"\n",
    "遍历list中的元素\n",
    "@Author thomasliu319@gaiml.com\n",
    "@Description: 遍历list集合\n",
    "@Date 2023-06-27\n",
    "\"\"\"\n",
    "\n",
    "list = [1,2,3]\n",
    "for i in list:\n",
    "    i+=1\n",
    "    print(i)"
   ]
  },
  {
   "cell_type": "code",
   "execution_count": 6,
   "metadata": {
    "ExecuteTime": {
     "end_time": "2023-06-27T22:37:20.090575Z",
     "start_time": "2023-06-27T22:37:19.739583Z"
    }
   },
   "outputs": [
    {
     "name": "stdout",
     "output_type": "stream",
     "text": [
      "   age name\n",
      "0   26  Ben\n",
      "1   85  Joh\n",
      "2   64  Jef\n"
     ]
    }
   ],
   "source": [
    "from pandas import DataFrame\n",
    "from pandas import Series\n",
    "df = DataFrame({'age':Series([26,85,64]),\n",
    "                'name':Series(['Ben','Joh','Jef'])})\n",
    "print(df)\n",
    "#!conda activate pythonBasic"
   ]
  },
  {
   "cell_type": "code",
   "execution_count": 8,
   "metadata": {
    "ExecuteTime": {
     "end_time": "2023-06-27T22:46:24.021332Z",
     "start_time": "2023-06-27T22:46:24.011644Z"
    }
   },
   "outputs": [
    {
     "name": "stdout",
     "output_type": "stream",
     "text": [
      "I'am a boy.\n",
      "I'am a boy.\n"
     ]
    }
   ],
   "source": [
    "s1 = 'I\\'am a boy.'\n",
    "print(s1)\n",
    "s2 = \"I'am a boy.\"\n",
    "print(s2)"
   ]
  },
  {
   "cell_type": "code",
   "execution_count": 16,
   "metadata": {
    "ExecuteTime": {
     "end_time": "2023-06-27T22:50:34.824713Z",
     "start_time": "2023-06-27T22:50:34.814611Z"
    }
   },
   "outputs": [
    {
     "name": "stderr",
     "output_type": "stream",
     "text": [
      "<>:6: SyntaxWarning: \"is\" with a literal. Did you mean \"==\"?\n",
      "<>:7: SyntaxWarning: \"is not\" with a literal. Did you mean \"!=\"?\n",
      "<>:6: SyntaxWarning: \"is\" with a literal. Did you mean \"==\"?\n",
      "<>:7: SyntaxWarning: \"is not\" with a literal. Did you mean \"!=\"?\n",
      "/var/folders/_w/tys32hhn1zl076008f10r1wr0000gn/T/ipykernel_71290/4272894785.py:6: SyntaxWarning: \"is\" with a literal. Did you mean \"==\"?\n",
      "  1 is 2\n",
      "/var/folders/_w/tys32hhn1zl076008f10r1wr0000gn/T/ipykernel_71290/4272894785.py:7: SyntaxWarning: \"is not\" with a literal. Did you mean \"!=\"?\n",
      "  1 is not 2\n"
     ]
    },
    {
     "data": {
      "text/plain": [
       "True"
      ]
     },
     "execution_count": 16,
     "metadata": {},
     "output_type": "execute_result"
    }
   ],
   "source": [
    "1<2\n",
    "1<=2\n",
    "1>=2\n",
    "1==2\n",
    "1!=2\n",
    "1 is 2\n",
    "1 is not 2"
   ]
  },
  {
   "cell_type": "code",
   "execution_count": 32,
   "metadata": {
    "ExecuteTime": {
     "end_time": "2023-06-27T23:12:10.268499Z",
     "start_time": "2023-06-27T23:12:10.256719Z"
    }
   },
   "outputs": [
    {
     "name": "stdout",
     "output_type": "stream",
     "text": [
      "7\n",
      "10\n",
      "4\n",
      "21\n",
      "2.3333333333333335\n",
      "2\n",
      "1\n",
      "-7\n",
      "7\n",
      "7\n",
      "7.0\n",
      "(7+3j)\n",
      "(7-3j)\n",
      "(2, 1)\n",
      "343\n"
     ]
    }
   ],
   "source": [
    "x=7\n",
    "print(x)\n",
    "y = x+3\n",
    "print(y)\n",
    "z = x-3\n",
    "print(z)\n",
    "s = x*3\n",
    "print(s)\n",
    "u = x/3\n",
    "print(u)\n",
    "o = x//3\n",
    "print(o)\n",
    "p = x%3\n",
    "print(p)\n",
    "q = -x\n",
    "print(q)\n",
    "w = abs(-x)\n",
    "print(w)\n",
    "e = int(7.2)\n",
    "print(e)\n",
    "r = float(x)\n",
    "print(r)\n",
    "\n",
    "t = complex(x, 3)\n",
    "print(t)\n",
    "\n",
    "a = complex(x,3).conjugate()\n",
    "print(a)\n",
    "\n",
    "b = divmod(x,3)\n",
    "print(b)\n",
    "\n",
    "c =  pow (x, 3)\n",
    "print(c)\n"
   ]
  },
  {
   "cell_type": "code",
   "execution_count": 1,
   "metadata": {
    "ExecuteTime": {
     "end_time": "2023-07-10T20:01:45.449482Z",
     "start_time": "2023-07-10T20:01:45.437860Z"
    }
   },
   "outputs": [
    {
     "name": "stdout",
     "output_type": "stream",
     "text": [
      "13\n"
     ]
    }
   ],
   "source": [
    "#函数\n",
    "\n",
    "def f(x, y):\n",
    "    z = x**2 + y**2\n",
    "\n",
    "    return z;\n",
    "\n",
    "res = f(2,3)\n",
    "\n",
    "print(res)\n"
   ]
  },
  {
   "cell_type": "code",
   "execution_count": 7,
   "metadata": {
    "ExecuteTime": {
     "end_time": "2023-07-10T20:06:21.837658Z",
     "start_time": "2023-07-10T20:06:21.826000Z"
    }
   },
   "outputs": [],
   "source": [
    "def func (x, y =100, z=\"hello\"):\n",
    "    print(x,y,z)\n",
    "\n",
    "    func(0)\n",
    "    func(0,1)\n",
    "    func(0, 34, \"world\")\n",
    "    func(66, \"hello world\")\n",
    "\n",
    "    func(44, 90, \"kkkk\")\n",
    "\n"
   ]
  },
  {
   "cell_type": "code",
   "execution_count": 12,
   "metadata": {
    "ExecuteTime": {
     "end_time": "2023-07-10T20:14:54.579045Z",
     "start_time": "2023-07-10T20:14:54.565471Z"
    }
   },
   "outputs": [
    {
     "name": "stdout",
     "output_type": "stream",
     "text": [
      "赵钱孙有以下雅称：\n",
      "猴子\n",
      "毛毛\n",
      "赵学霸\n"
     ]
    }
   ],
   "source": [
    "def func(name, *args):\n",
    "    print(name+\"有以下雅称：\")\n",
    "    for i in args:\n",
    "        print(i)\n",
    "\n",
    "if __name__ == '__main__':\n",
    "    func(\"赵钱孙\", \"猴子\", \"毛毛\" ,\"赵学霸\")\n"
   ]
  },
  {
   "cell_type": "code",
   "execution_count": 18,
   "metadata": {
    "ExecuteTime": {
     "end_time": "2023-07-10T20:24:23.646690Z",
     "start_time": "2023-07-10T20:24:23.634275Z"
    }
   },
   "outputs": [
    {
     "name": "stdout",
     "output_type": "stream",
     "text": [
      "<class 'dict'>\n",
      "aa 1\n",
      "bb 2\n",
      "cc 3\n",
      "--------\n",
      "<class 'dict'>\n",
      "aa 1\n",
      "bb 2\n",
      "cc hello\n"
     ]
    }
   ],
   "source": [
    "def func(**kwargs):\n",
    "    print(type(kwargs))\n",
    "\n",
    "    for i in kwargs:\n",
    "        print(i, kwargs[i])\n",
    "\n",
    "if __name__ == '__main__':\n",
    "    func (aa=1, bb=2, cc=3)\n",
    "    print(\"--------\")\n",
    "    func(aa=1, bb=2, cc=\"hello\")\n"
   ]
  },
  {
   "cell_type": "code",
   "execution_count": 23,
   "metadata": {
    "ExecuteTime": {
     "end_time": "2023-07-10T20:31:08.777809Z",
     "start_time": "2023-07-10T20:31:08.760449Z"
    }
   },
   "outputs": [
    {
     "name": "stdout",
     "output_type": "stream",
     "text": [
      "这是f1函数： 1\n",
      "这是f2函数： hello\n"
     ]
    }
   ],
   "source": [
    "def func(fun , args):\n",
    "    fun(args)\n",
    "\n",
    "def f1(x):\n",
    "    print(\"这是f1函数：\",x)\n",
    "\n",
    "def f2(x):\n",
    "    print(\"这是f2函数：\",x)\n",
    "\n",
    "if __name__ == '__main__':\n",
    "    func(f1, 1)\n",
    "    func(f2, \"hello\")\n",
    "\n",
    "\n"
   ]
  },
  {
   "cell_type": "code",
   "execution_count": 24,
   "metadata": {
    "ExecuteTime": {
     "end_time": "2023-07-10T20:39:12.064536Z",
     "start_time": "2023-07-10T20:39:12.029992Z"
    }
   },
   "outputs": [
    {
     "name": "stdout",
     "output_type": "stream",
     "text": [
      "fib(1)=1\n",
      "fib(2)=1\n",
      "fib(3)=2\n",
      "fib(4)=3\n",
      "fib(5)=5\n",
      "fib(6)=8\n",
      "fib(7)=13\n",
      "fib(8)=21\n",
      "fib(9)=34\n"
     ]
    }
   ],
   "source": [
    "def fib(n):\n",
    "    if n <= 2:\n",
    "        return 1\n",
    "    else:\n",
    "        return fib(n-1)+fib(n-2)\n",
    "\n",
    "if __name__ == '__main__':\n",
    "    for i in range(1,10):\n",
    "        print(\"fib(%s)=%s\"% (i, fib(i)))\n"
   ]
  },
  {
   "cell_type": "code",
   "execution_count": 27,
   "metadata": {
    "ExecuteTime": {
     "end_time": "2023-07-10T20:59:32.196003Z",
     "start_time": "2023-07-10T20:59:24.569051Z"
    }
   },
   "outputs": [
    {
     "name": "stdout",
     "output_type": "stream",
     "text": [
      "x1= -2.2807764064044154\n",
      "x2= -0.21922359359558485\n"
     ]
    }
   ],
   "source": [
    "def args_input():\n",
    "    #定义输入函数\n",
    "    try:\n",
    "        A= float(input(\"输入A:\"))\n",
    "        B= float(input(\"输入B:\"))\n",
    "        C= float(input(\"输入C:\"))\n",
    "        return A,B,C\n",
    "    except:\n",
    "        #输入错误则重新输入\n",
    "        print(\"请输入正确的数字类型！\")\n",
    "        #为了出错时能重新输入\n",
    "        return args_input()\n",
    "\n",
    "def get_delta(A,B,C):\n",
    "    return B**2 - 4*A*C\n",
    "\n",
    "def solve():\n",
    "    A,B,C = args_input()\n",
    "    delta = get_delta(A,B,C)\n",
    "    if delta < 0:\n",
    "        print(\"该方程无解！\")\n",
    "    elif delta ==0:\n",
    "        x = B/(-2*A)\n",
    "        print(\"x=\",x)\n",
    "    else:\n",
    "        x1 = (B+delta**0.5)/(-2*A)\n",
    "        x2 = (B-delta**0.5)/(-2*A)\n",
    "\n",
    "        print(\"x1=\", x1)\n",
    "        print(\"x2=\", x2)\n",
    "\n",
    "def main():\n",
    "    solve()\n",
    "\n",
    "if __name__ == '__main__':\n",
    "    main()"
   ]
  },
  {
   "cell_type": "code",
   "execution_count": 28,
   "metadata": {
    "ExecuteTime": {
     "end_time": "2023-07-10T21:07:09.952599Z",
     "start_time": "2023-07-10T21:07:09.918407Z"
    }
   },
   "outputs": [
    {
     "name": "stdout",
     "output_type": "stream",
     "text": [
      "你好 小明\n",
      "再见 小明\n"
     ]
    }
   ],
   "source": [
    "def say(word):\n",
    "    def name(name):\n",
    "        print(word, name)\n",
    "    return name\n",
    "\n",
    "if __name__ == '__main__':\n",
    "    hi = say('你好')\n",
    "    hi('小明')\n",
    "\n",
    "    bye = say('再见')\n",
    "    bye('小明')"
   ]
  },
  {
   "cell_type": "code",
   "execution_count": 29,
   "metadata": {
    "ExecuteTime": {
     "end_time": "2023-07-11T18:42:19.384802Z",
     "start_time": "2023-07-11T18:42:19.355186Z"
    }
   },
   "outputs": [
    {
     "name": "stdout",
     "output_type": "stream",
     "text": [
      "当前res值： [1, 2]\n",
      "当前res值： [1, 2, 3, 4]\n"
     ]
    }
   ],
   "source": [
    "def func():\n",
    "    res = []\n",
    "\n",
    "    def put(x):\n",
    "        res.append(x)\n",
    "\n",
    "    def get():\n",
    "        return res\n",
    "\n",
    "    return put, get\n",
    "\n",
    "\n",
    "if __name__ == '__main__':\n",
    "\n",
    "    p,g = func()\n",
    "\n",
    "    p(1)\n",
    "    p(2)\n",
    "    print(\"当前res值：\", g())\n",
    "\n",
    "    p(3)\n",
    "    p(4)\n",
    "    print(\"当前res值：\", g())\n",
    "\n"
   ]
  },
  {
   "cell_type": "code",
   "execution_count": 31,
   "metadata": {
    "ExecuteTime": {
     "end_time": "2023-07-11T18:51:23.865567Z",
     "start_time": "2023-07-11T18:51:23.845714Z"
    }
   },
   "outputs": [
    {
     "name": "stdout",
     "output_type": "stream",
     "text": [
      "5\n",
      "25\n"
     ]
    }
   ],
   "source": [
    "#匿名函数\n",
    "#求两数之和，定义函数f(x,y) =x+y\n",
    "f = lambda x, y:x+y\n",
    "print(f(2,3))\n",
    "\n",
    "#或者求两数的平方和\n",
    "print((lambda x, y:x**2+y**2)(3,4))\n",
    "\n"
   ]
  },
  {
   "cell_type": "code",
   "execution_count": 32,
   "metadata": {
    "ExecuteTime": {
     "end_time": "2023-07-11T18:51:30.725342Z",
     "start_time": "2023-07-11T18:51:30.683270Z"
    }
   },
   "outputs": [
    {
     "name": "stdout",
     "output_type": "stream",
     "text": [
      "0\n",
      "1\n",
      "2\n",
      "3\n",
      "4\n",
      "5\n",
      "6\n",
      "7\n",
      "8\n",
      "9\n"
     ]
    }
   ],
   "source": [
    "def func(n):\n",
    "    i = 0\n",
    "    while i < n:\n",
    "        yield i\n",
    "        i += 1\n",
    "\n",
    "for i in func(10):\n",
    "    print(i)"
   ]
  },
  {
   "cell_type": "code",
   "execution_count": 33,
   "metadata": {
    "ExecuteTime": {
     "end_time": "2023-07-11T18:58:01.603569Z",
     "start_time": "2023-07-11T18:58:01.563304Z"
    }
   },
   "outputs": [
    {
     "name": "stdout",
     "output_type": "stream",
     "text": [
      "1\n",
      "1\n",
      "2\n",
      "3\n",
      "5\n"
     ]
    }
   ],
   "source": [
    "def fab(max):\n",
    "    n, a, b = 0, 0, 1\n",
    "    L = []\n",
    "    while n < max:\n",
    "        L.append(b)\n",
    "        a, b= b, a+b\n",
    "        n = n+1\n",
    "    return L;\n",
    "\n",
    "if __name__ == '__main__':\n",
    "    for  n in fab(5):\n",
    "        print(n)"
   ]
  },
  {
   "cell_type": "code",
   "execution_count": 42,
   "metadata": {
    "ExecuteTime": {
     "end_time": "2023-07-11T19:05:35.812323Z",
     "start_time": "2023-07-11T19:05:35.800293Z"
    }
   },
   "outputs": [
    {
     "data": {
      "text/plain": [
       "[1, 2, 3]"
      ]
     },
     "execution_count": 42,
     "metadata": {},
     "output_type": "execute_result"
    }
   ],
   "source": [
    "\n",
    "s = [1,2,3,4,5]\n",
    "\n",
    "s[0]\n",
    "\n",
    "s[2]\n",
    "\n",
    "s[-1]\n",
    "\n",
    "s[-2]\n",
    "\n",
    "s[1:3]\n",
    "\n",
    "s[1:]\n",
    "\n",
    "s[:-2]"
   ]
  },
  {
   "cell_type": "code",
   "execution_count": 62,
   "metadata": {
    "ExecuteTime": {
     "end_time": "2023-07-11T19:19:24.455919Z",
     "start_time": "2023-07-11T19:19:24.448312Z"
    }
   },
   "outputs": [
    {
     "name": "stdout",
     "output_type": "stream",
     "text": [
      "1\n"
     ]
    },
    {
     "data": {
      "text/plain": [
       "[]"
      ]
     },
     "execution_count": 62,
     "metadata": {},
     "output_type": "execute_result"
    }
   ],
   "source": [
    "s = [1,3,2,4,6,1,2,3]\n",
    "\n",
    "s\n",
    "\n",
    "s.append(0)\n",
    "s\n",
    "\n",
    "s.extend([1,2,3,4])\n",
    "s\n",
    "\n",
    "s.insert(0, 100)\n",
    "s\n",
    "\n",
    "s.remove(100)\n",
    "s\n",
    "\n",
    "print(s.pop(0))\n",
    "s\n",
    "\n",
    "s.pop()\n",
    "s\n",
    "\n",
    "s.index(3)\n",
    "\n",
    "s.count(1)\n",
    "\n",
    "s.reverse()\n",
    "s\n",
    "\n",
    "s.sort()\n",
    "s\n",
    "\n",
    "s.sort(reverse=True)\n",
    "s\n",
    "\n",
    "k = s.copy()\n",
    "k\n",
    "\n",
    "k.clear()\n",
    "k\n",
    "\n",
    "\n",
    "s\n",
    "\n",
    "m=s\n",
    "m\n",
    "\n",
    "m.clear()\n",
    "m\n",
    "\n",
    "s\n",
    "\n",
    "\n"
   ]
  },
  {
   "cell_type": "code",
   "execution_count": 63,
   "metadata": {
    "ExecuteTime": {
     "end_time": "2023-07-11T19:26:16.809494Z",
     "start_time": "2023-07-11T19:26:16.772268Z"
    }
   },
   "outputs": [
    {
     "data": {
      "text/plain": [
       "(1, 2, 3)"
      ]
     },
     "execution_count": 63,
     "metadata": {},
     "output_type": "execute_result"
    }
   ],
   "source": [
    "t = (1,2,3)\n",
    "t\n",
    "\n",
    "y = 1,2,3\n",
    "y\n"
   ]
  },
  {
   "cell_type": "code",
   "execution_count": 65,
   "metadata": {
    "ExecuteTime": {
     "end_time": "2023-07-11T19:27:55.910767Z",
     "start_time": "2023-07-11T19:27:55.899639Z"
    }
   },
   "outputs": [
    {
     "data": {
      "text/plain": [
       "1"
      ]
     },
     "execution_count": 65,
     "metadata": {},
     "output_type": "execute_result"
    }
   ],
   "source": [
    "x,y=1,2\n",
    "x\n",
    "y\n",
    "x,y=y,x\n",
    "x\n",
    "y"
   ]
  },
  {
   "cell_type": "code",
   "execution_count": 68,
   "metadata": {
    "ExecuteTime": {
     "end_time": "2023-07-11T19:29:38.174664Z",
     "start_time": "2023-07-11T19:29:38.160589Z"
    }
   },
   "outputs": [
    {
     "data": {
      "text/plain": [
       "4"
      ]
     },
     "execution_count": 68,
     "metadata": {},
     "output_type": "execute_result"
    }
   ],
   "source": [
    "t = 1,1,1,1,2,2,3,1,1,1\n",
    "t\n",
    "\n",
    "t.count(1)\n",
    "t.index(2)"
   ]
  },
  {
   "cell_type": "code",
   "execution_count": 70,
   "metadata": {
    "ExecuteTime": {
     "end_time": "2023-07-11T19:35:02.722464Z",
     "start_time": "2023-07-11T19:35:02.709477Z"
    }
   },
   "outputs": [
    {
     "data": {
      "text/plain": [
       "{1, 2, 3, 4}"
      ]
     },
     "execution_count": 70,
     "metadata": {},
     "output_type": "execute_result"
    }
   ],
   "source": [
    "s = {1,2,3,4,1,2,3}\n",
    "s"
   ]
  },
  {
   "cell_type": "code",
   "execution_count": 73,
   "metadata": {
    "ExecuteTime": {
     "end_time": "2023-07-11T19:37:29.847542Z",
     "start_time": "2023-07-11T19:37:29.832939Z"
    }
   },
   "outputs": [
    {
     "data": {
      "text/plain": [
       "{1, 2, 3, 4, 5, 6}"
      ]
     },
     "execution_count": 73,
     "metadata": {},
     "output_type": "execute_result"
    }
   ],
   "source": [
    "L = [1,1,1,2,2,2,3,3,3,4,4,5,6,2]\n",
    "T = 1,1,1,2,2,2,3,3,3,4,4,5,6,2\n",
    "\n",
    "L\n",
    "T\n",
    "\n",
    "SL = set(L)\n",
    "SL"
   ]
  },
  {
   "cell_type": "code",
   "execution_count": 74,
   "metadata": {
    "ExecuteTime": {
     "end_time": "2023-07-11T19:39:46.591196Z",
     "start_time": "2023-07-11T19:39:46.547908Z"
    }
   },
   "outputs": [
    {
     "data": {
      "text/plain": [
       "{'a', 'b', 'c', 'd', 'e', 'f', 'g'}"
      ]
     },
     "execution_count": 74,
     "metadata": {},
     "output_type": "execute_result"
    }
   ],
   "source": [
    "s1 = set(\"abcdefg\")\n",
    "s2 = set(\"defghijkl\")\n",
    "\n",
    "s1"
   ]
  },
  {
   "cell_type": "code",
   "execution_count": 78,
   "metadata": {
    "ExecuteTime": {
     "end_time": "2023-07-12T19:40:59.203508Z",
     "start_time": "2023-07-12T19:40:59.187760Z"
    }
   },
   "outputs": [
    {
     "data": {
      "text/plain": [
       "{'a': 12, 5: 'a4', 'hel': 'rt'}"
      ]
     },
     "execution_count": 78,
     "metadata": {},
     "output_type": "execute_result"
    }
   ],
   "source": [
    "d = {1:10, 2:20, \"a\":12, 5:\"hello\"}\n",
    "d\n",
    "\n",
    "d1 = dict(a=1,b=2,c=3)\n",
    "d1\n",
    "\n",
    "d2 = dict([['a',12], [5,'a4'], ['hel','rt']])\n",
    "d2\n",
    "\n",
    "\n"
   ]
  },
  {
   "cell_type": "code",
   "execution_count": 84,
   "metadata": {
    "ExecuteTime": {
     "end_time": "2023-07-12T19:50:38.289363Z",
     "start_time": "2023-07-12T19:50:38.275986Z"
    }
   },
   "outputs": [
    {
     "data": {
      "text/plain": [
       "12"
      ]
     },
     "execution_count": 84,
     "metadata": {},
     "output_type": "execute_result"
    }
   ],
   "source": [
    "d = {1:10,2:20,\"a\":12,5:\"hello\"}\n",
    "d\n",
    "\n",
    "d[1]\n",
    "\n",
    "d['a']\n",
    "\n",
    "d[5]\n",
    "\n",
    "d.get(5)\n",
    "\n",
    "d.get('a')\n"
   ]
  },
  {
   "cell_type": "code",
   "execution_count": 92,
   "metadata": {
    "ExecuteTime": {
     "end_time": "2023-07-12T19:57:10.552339Z",
     "start_time": "2023-07-12T19:57:10.541586Z"
    }
   },
   "outputs": [
    {
     "data": {
      "text/plain": [
       "{2: 20, 'a': 12, 5: 'hello'}"
      ]
     },
     "execution_count": 92,
     "metadata": {},
     "output_type": "execute_result"
    }
   ],
   "source": [
    "d={1:10,2:20,\"a\":12,5:\"hello\"}\n",
    "d\n",
    "\n",
    "dc=d.copy()\n",
    "dc\n",
    "\n",
    "dc.clear()\n",
    "dc\n",
    "\n",
    "\n",
    "d.items()\n",
    "\n",
    "d.keys()\n",
    "\n",
    "d.values()\n",
    "\n",
    "d.pop(1)\n",
    "\n",
    "d\n"
   ]
  },
  {
   "cell_type": "code",
   "execution_count": 94,
   "metadata": {
    "ExecuteTime": {
     "end_time": "2023-07-12T20:22:38.175246Z",
     "start_time": "2023-07-12T20:22:38.158355Z"
    }
   },
   "outputs": [
    {
     "name": "stdout",
     "output_type": "stream",
     "text": [
      "总共41个人，每报数到第3的人自杀，最后剩余2个人\n",
      "玩家队列： [1, 2, 3, 4, 5, 6, 7, 8, 9, 10, 11, 12, 13, 14, 15, 16, 17, 18, 19, 20, 21, 22, 23, 24, 25, 26, 27, 28, 29, 30, 31, 32, 33, 34, 35, 36, 37, 38, 39, 40, 41]\n",
      "kill 3\n",
      "kill 6\n",
      "kill 9\n",
      "kill 12\n",
      "kill 15\n",
      "kill 18\n",
      "kill 21\n",
      "kill 24\n",
      "kill 27\n",
      "kill 30\n",
      "kill 33\n",
      "kill 36\n",
      "kill 39\n",
      "kill 1\n",
      "kill 5\n",
      "kill 10\n",
      "kill 14\n",
      "kill 19\n",
      "kill 23\n",
      "kill 28\n",
      "kill 32\n",
      "kill 37\n",
      "kill 41\n",
      "kill 7\n",
      "kill 13\n",
      "kill 20\n",
      "kill 26\n",
      "kill 34\n",
      "kill 40\n",
      "kill 8\n",
      "kill 17\n",
      "kill 29\n",
      "kill 38\n",
      "kill 11\n",
      "kill 25\n",
      "kill 2\n",
      "kill 22\n",
      "kill 4\n",
      "kill 35\n",
      "最后逃生的人，编号是： [16, 31]\n"
     ]
    }
   ],
   "source": [
    "def move(man, sep):\n",
    "    \"\"\"\n",
    "     将man列表向左移动sep单位，最左边的元素向列表后面添加\n",
    "     相当于队列顺时针移动\n",
    "    \"\"\"\n",
    "    for i in range(sep):\n",
    "        item = man.pop(0)\n",
    "        man.append(item)\n",
    "\n",
    "def play(man=41, sep=3, rest=2):\n",
    "    \"\"\"\n",
    "      man: 玩家个数\n",
    "      sep: 杀死数到的第几个人\n",
    "      rest: 幸存者数量\n",
    "    \"\"\"\n",
    "    print('总共%d个人，每报数到第%d的人自杀，最后剩余%d个人'%(man, sep, rest))\n",
    "\n",
    "    #初始化玩家队列\n",
    "    man = [i for i in range(1, man+1)]\n",
    "\n",
    "    print(\"玩家队列：\",man)\n",
    "    #数两个数，到第第3个人时就自杀\n",
    "    sep -=1\n",
    "\n",
    "    while len(man) > rest:\n",
    "        move(man,sep)\n",
    "        print('kill', man.pop(0))\n",
    "\n",
    "    return man\n",
    "\n",
    "servive = play()\n",
    "print(\"最后逃生的人，编号是：\", servive)\n"
   ]
  },
  {
   "cell_type": "code",
   "execution_count": 1,
   "metadata": {
    "ExecuteTime": {
     "end_time": "2023-07-24T19:01:38.110037Z",
     "start_time": "2023-07-24T19:01:38.088072Z"
    }
   },
   "outputs": [
    {
     "data": {
      "text/plain": [
       "[111, 122, 133]"
      ]
     },
     "execution_count": 1,
     "metadata": {},
     "output_type": "execute_result"
    }
   ],
   "source": [
    "li = [11, 22, 33]\n",
    "new_list = map(lambda  a:a+100, li)\n",
    "list(new_list)\n"
   ]
  },
  {
   "cell_type": "code",
   "execution_count": null,
   "metadata": {},
   "outputs": [],
   "source": []
  }
 ],
 "metadata": {
  "kernelspec": {
   "display_name": "Python 3 (ipykernel)",
   "language": "python",
   "name": "python3"
  },
  "language_info": {
   "codemirror_mode": {
    "name": "ipython",
    "version": 3
   },
   "file_extension": ".py",
   "mimetype": "text/x-python",
   "name": "python",
   "nbconvert_exporter": "python",
   "pygments_lexer": "ipython3",
   "version": "3.10.9"
  }
 },
 "nbformat": 4,
 "nbformat_minor": 1
}
