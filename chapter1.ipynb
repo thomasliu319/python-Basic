{
 "cells": [
  {
   "cell_type": "code",
   "execution_count": 1,
   "metadata": {
    "collapsed": true,
    "ExecuteTime": {
     "start_time": "2023-06-27T22:31:49.534143Z",
     "end_time": "2023-06-27T22:31:49.547236Z"
    }
   },
   "outputs": [
    {
     "name": "stdout",
     "output_type": "stream",
     "text": [
      "2\n",
      "3\n",
      "4\n"
     ]
    }
   ],
   "source": [
    "#-*- coding:utf-8 -*-\n",
    "\"\"\"\n",
    "遍历list中的元素\n",
    "@Author thomasliu319@gaiml.com\n",
    "@Description: 遍历list集合\n",
    "@Date 2023-06-27\n",
    "\"\"\"\n",
    "\n",
    "list = [1,2,3]\n",
    "for i in list:\n",
    "    i+=1\n",
    "    print(i)"
   ]
  },
  {
   "cell_type": "code",
   "execution_count": 6,
   "outputs": [
    {
     "name": "stdout",
     "output_type": "stream",
     "text": [
      "   age name\n",
      "0   26  Ben\n",
      "1   85  Joh\n",
      "2   64  Jef\n"
     ]
    }
   ],
   "source": [
    "from pandas import DataFrame\n",
    "from pandas import Series\n",
    "df = DataFrame({'age':Series([26,85,64]),\n",
    "                'name':Series(['Ben','Joh','Jef'])})\n",
    "print(df)\n",
    "#!conda activate pythonBasic"
   ],
   "metadata": {
    "collapsed": false,
    "ExecuteTime": {
     "start_time": "2023-06-27T22:37:19.739583Z",
     "end_time": "2023-06-27T22:37:20.090575Z"
    }
   }
  },
  {
   "cell_type": "code",
   "execution_count": 8,
   "outputs": [
    {
     "name": "stdout",
     "output_type": "stream",
     "text": [
      "I'am a boy.\n",
      "I'am a boy.\n"
     ]
    }
   ],
   "source": [
    "s1 = 'I\\'am a boy.'\n",
    "print(s1)\n",
    "s2 = \"I'am a boy.\"\n",
    "print(s2)"
   ],
   "metadata": {
    "collapsed": false,
    "ExecuteTime": {
     "start_time": "2023-06-27T22:46:24.011644Z",
     "end_time": "2023-06-27T22:46:24.021332Z"
    }
   }
  },
  {
   "cell_type": "code",
   "execution_count": 16,
   "outputs": [
    {
     "name": "stderr",
     "output_type": "stream",
     "text": [
      "<>:6: SyntaxWarning: \"is\" with a literal. Did you mean \"==\"?\n",
      "<>:7: SyntaxWarning: \"is not\" with a literal. Did you mean \"!=\"?\n",
      "<>:6: SyntaxWarning: \"is\" with a literal. Did you mean \"==\"?\n",
      "<>:7: SyntaxWarning: \"is not\" with a literal. Did you mean \"!=\"?\n",
      "/var/folders/_w/tys32hhn1zl076008f10r1wr0000gn/T/ipykernel_71290/4272894785.py:6: SyntaxWarning: \"is\" with a literal. Did you mean \"==\"?\n",
      "  1 is 2\n",
      "/var/folders/_w/tys32hhn1zl076008f10r1wr0000gn/T/ipykernel_71290/4272894785.py:7: SyntaxWarning: \"is not\" with a literal. Did you mean \"!=\"?\n",
      "  1 is not 2\n"
     ]
    },
    {
     "data": {
      "text/plain": "True"
     },
     "execution_count": 16,
     "metadata": {},
     "output_type": "execute_result"
    }
   ],
   "source": [
    "1<2\n",
    "1<=2\n",
    "1>=2\n",
    "1==2\n",
    "1!=2\n",
    "1 is 2\n",
    "1 is not 2"
   ],
   "metadata": {
    "collapsed": false,
    "ExecuteTime": {
     "start_time": "2023-06-27T22:50:34.814611Z",
     "end_time": "2023-06-27T22:50:34.824713Z"
    }
   }
  },
  {
   "cell_type": "code",
   "execution_count": 31,
   "outputs": [
    {
     "name": "stdout",
     "output_type": "stream",
     "text": [
      "7\n",
      "10\n",
      "4\n",
      "21\n",
      "2.3333333333333335\n",
      "2\n",
      "1\n",
      "-7\n",
      "7\n",
      "7\n",
      "7.0\n",
      "(7+3j)\n",
      "(7-3j)\n",
      "(2, 1)\n"
     ]
    }
   ],
   "source": [
    "x=7\n",
    "print(x)\n",
    "y = x+3\n",
    "print(y)\n",
    "z = x-3\n",
    "print(z)\n",
    "s = x*3\n",
    "print(s)\n",
    "u = x/3\n",
    "print(u)\n",
    "o = x//3\n",
    "print(o)\n",
    "p = x%3\n",
    "print(p)\n",
    "q = -x\n",
    "print(q)\n",
    "w = abs(-x)\n",
    "print(w)\n",
    "e = int(7.2)\n",
    "print(e)\n",
    "r = float(x)\n",
    "print(r)\n",
    "\n",
    "t = complex(x, 3)\n",
    "print(t)\n",
    "\n",
    "a = complex(x,3).conjugate()\n",
    "print(a)\n",
    "\n",
    "b = divmod(x,3)\n",
    "print(b)\n"
   ],
   "metadata": {
    "collapsed": false,
    "ExecuteTime": {
     "start_time": "2023-06-27T23:09:36.428716Z",
     "end_time": "2023-06-27T23:09:36.438321Z"
    }
   }
  },
  {
   "cell_type": "code",
   "execution_count": null,
   "outputs": [],
   "source": [],
   "metadata": {
    "collapsed": false
   }
  }
 ],
 "metadata": {
  "kernelspec": {
   "display_name": "Python 3",
   "language": "python",
   "name": "python3"
  },
  "language_info": {
   "codemirror_mode": {
    "name": "ipython",
    "version": 2
   },
   "file_extension": ".py",
   "mimetype": "text/x-python",
   "name": "python",
   "nbconvert_exporter": "python",
   "pygments_lexer": "ipython2",
   "version": "2.7.6"
  }
 },
 "nbformat": 4,
 "nbformat_minor": 0
}
