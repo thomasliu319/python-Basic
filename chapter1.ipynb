{
 "cells": [
  {
   "cell_type": "code",
   "execution_count": 1,
   "metadata": {
    "collapsed": true,
    "ExecuteTime": {
     "start_time": "2023-06-27T22:31:49.534143Z",
     "end_time": "2023-06-27T22:31:49.547236Z"
    }
   },
   "outputs": [
    {
     "name": "stdout",
     "output_type": "stream",
     "text": [
      "2\n",
      "3\n",
      "4\n"
     ]
    }
   ],
   "source": [
    "#-*- coding:utf-8 -*-\n",
    "\"\"\"\n",
    "遍历list中的元素\n",
    "@Author thomasliu319@gaiml.com\n",
    "@Description: 遍历list集合\n",
    "@Date 2023-06-27\n",
    "\"\"\"\n",
    "\n",
    "list = [1,2,3]\n",
    "for i in list:\n",
    "    i+=1\n",
    "    print(i)"
   ]
  },
  {
   "cell_type": "code",
   "execution_count": 6,
   "outputs": [
    {
     "name": "stdout",
     "output_type": "stream",
     "text": [
      "   age name\n",
      "0   26  Ben\n",
      "1   85  Joh\n",
      "2   64  Jef\n"
     ]
    }
   ],
   "source": [
    "from pandas import DataFrame\n",
    "from pandas import Series\n",
    "df = DataFrame({'age':Series([26,85,64]),\n",
    "                'name':Series(['Ben','Joh','Jef'])})\n",
    "print(df)\n",
    "#!conda activate pythonBasic"
   ],
   "metadata": {
    "collapsed": false,
    "ExecuteTime": {
     "start_time": "2023-06-27T22:37:19.739583Z",
     "end_time": "2023-06-27T22:37:20.090575Z"
    }
   }
  },
  {
   "cell_type": "code",
   "execution_count": 8,
   "outputs": [
    {
     "name": "stdout",
     "output_type": "stream",
     "text": [
      "I'am a boy.\n",
      "I'am a boy.\n"
     ]
    }
   ],
   "source": [
    "s1 = 'I\\'am a boy.'\n",
    "print(s1)\n",
    "s2 = \"I'am a boy.\"\n",
    "print(s2)"
   ],
   "metadata": {
    "collapsed": false,
    "ExecuteTime": {
     "start_time": "2023-06-27T22:46:24.011644Z",
     "end_time": "2023-06-27T22:46:24.021332Z"
    }
   }
  },
  {
   "cell_type": "code",
   "execution_count": 16,
   "outputs": [
    {
     "name": "stderr",
     "output_type": "stream",
     "text": [
      "<>:6: SyntaxWarning: \"is\" with a literal. Did you mean \"==\"?\n",
      "<>:7: SyntaxWarning: \"is not\" with a literal. Did you mean \"!=\"?\n",
      "<>:6: SyntaxWarning: \"is\" with a literal. Did you mean \"==\"?\n",
      "<>:7: SyntaxWarning: \"is not\" with a literal. Did you mean \"!=\"?\n",
      "/var/folders/_w/tys32hhn1zl076008f10r1wr0000gn/T/ipykernel_71290/4272894785.py:6: SyntaxWarning: \"is\" with a literal. Did you mean \"==\"?\n",
      "  1 is 2\n",
      "/var/folders/_w/tys32hhn1zl076008f10r1wr0000gn/T/ipykernel_71290/4272894785.py:7: SyntaxWarning: \"is not\" with a literal. Did you mean \"!=\"?\n",
      "  1 is not 2\n"
     ]
    },
    {
     "data": {
      "text/plain": "True"
     },
     "execution_count": 16,
     "metadata": {},
     "output_type": "execute_result"
    }
   ],
   "source": [
    "1<2\n",
    "1<=2\n",
    "1>=2\n",
    "1==2\n",
    "1!=2\n",
    "1 is 2\n",
    "1 is not 2"
   ],
   "metadata": {
    "collapsed": false,
    "ExecuteTime": {
     "start_time": "2023-06-27T22:50:34.814611Z",
     "end_time": "2023-06-27T22:50:34.824713Z"
    }
   }
  },
  {
   "cell_type": "code",
   "execution_count": 31,
   "outputs": [
    {
     "name": "stdout",
     "output_type": "stream",
     "text": [
      "7\n",
      "10\n",
      "4\n",
      "21\n",
      "2.3333333333333335\n",
      "2\n",
      "1\n",
      "-7\n",
      "7\n",
      "7\n",
      "7.0\n",
      "(7+3j)\n",
      "(7-3j)\n",
      "(2, 1)\n"
     ]
    }
   ],
   "source": [
    "x=7\n",
    "print(x)\n",
    "y = x+3\n",
    "print(y)\n",
    "z = x-3\n",
    "print(z)\n",
    "s = x*3\n",
    "print(s)\n",
    "u = x/3\n",
    "print(u)\n",
    "o = x//3\n",
    "print(o)\n",
    "p = x%3\n",
    "print(p)\n",
    "q = -x\n",
    "print(q)\n",
    "w = abs(-x)\n",
    "print(w)\n",
    "e = int(7.2)\n",
    "print(e)\n",
    "r = float(x)\n",
    "print(r)\n",
    "\n",
    "t = complex(x, 3)\n",
    "print(t)\n",
    "\n",
    "a = complex(x,3).conjugate()\n",
    "print(a)\n",
    "\n",
    "b = divmod(x,3)\n",
    "print(b)\n"
   ],
   "metadata": {
    "collapsed": false,
    "ExecuteTime": {
     "start_time": "2023-06-27T23:09:36.428716Z",
     "end_time": "2023-06-27T23:09:36.438321Z"
    }
   }
  },
  {
   "cell_type": "code",
   "execution_count": 2,
   "outputs": [
    {
     "name": "stdout",
     "output_type": "stream",
     "text": [
      "x1= 1.0\n",
      "x2= 2.0\n"
     ]
    }
   ],
   "source": [
    "#输入A,B,C\n",
    "A = float(input(\"输入A:\"))\n",
    "B = float(input(\"输入B:\"))\n",
    "C = float(input(\"输入C:\"))\n",
    "\n",
    "#计算delta\n",
    "delta = B**2 - 4*A*C\n",
    "x1 = (B + delta**0.5)/(-2*A)\n",
    "x2 = (B - delta**0.5)/(-2*A)\n",
    "\n",
    "#输出x1,x2\n",
    "print(\"x1=\", x1)\n",
    "print(\"x2=\", x2)"
   ],
   "metadata": {
    "collapsed": false,
    "ExecuteTime": {
     "end_time": "2023-07-01T06:20:44.909853Z",
     "start_time": "2023-07-01T06:20:35.878159100Z"
    }
   }
  },
  {
   "cell_type": "code",
   "execution_count": 5,
   "outputs": [
    {
     "name": "stdout",
     "output_type": "stream",
     "text": [
      "x1= -3.414213562373095\n",
      "x2= -0.5857864376269049\n"
     ]
    }
   ],
   "source": [
    "#输入A,B,C\n",
    "A = float(input(\"输入A:\"))\n",
    "B = float(input(\"输入B:\"))\n",
    "C = float(input(\"输入C:\"))\n",
    "\n",
    "#计算delta\n",
    "delta = B**2 - 4*A*C\n",
    "\n",
    "#判断解的个数\n",
    "if delta < 0:\n",
    "   print(\"该方程无解！\")\n",
    "elif delta == 0:\n",
    "    x = B /(-2 *A)\n",
    "    print(\"x1=x2=\", x)\n",
    "else:\n",
    "    #计算x1,x2\n",
    "    x1 = (B + delta**0.5)/(-2*A)\n",
    "    x2 = (B - delta**0.5)/(-2*A)\n",
    "#输出x1,x2\n",
    "print(\"x1=\", x1)\n",
    "print(\"x2=\", x2)"
   ],
   "metadata": {
    "collapsed": false,
    "ExecuteTime": {
     "end_time": "2023-07-01T06:29:34.102009700Z",
     "start_time": "2023-07-01T06:29:24.593393200Z"
    }
   }
  },
  {
   "cell_type": "code",
   "execution_count": 7,
   "outputs": [
    {
     "name": "stdout",
     "output_type": "stream",
     "text": [
      "从1加到50结果是： 1275\n"
     ]
    }
   ],
   "source": [
    "n = int(input(\"请输入结束的数：\"))\n",
    "i = 1\n",
    "su = 0\n",
    "\n",
    "while i <= n:\n",
    "    su +=i\n",
    "    i +=1\n",
    "\n",
    "print(\"从1加到%d结果是： %d\" %(n, su))"
   ],
   "metadata": {
    "collapsed": false,
    "ExecuteTime": {
     "end_time": "2023-07-01T06:40:13.965317800Z",
     "start_time": "2023-07-01T06:40:06.497791500Z"
    }
   }
  },
  {
   "cell_type": "code",
   "execution_count": 8,
   "outputs": [
    {
     "name": "stdout",
     "output_type": "stream",
     "text": [
      "His name is Avalid, 10 years old.\n"
     ]
    }
   ],
   "source": [
    "print(\"His name is %s, %d years old.\" %(\"Avalid\", 10))"
   ],
   "metadata": {
    "collapsed": false,
    "ExecuteTime": {
     "end_time": "2023-07-01T06:41:50.007114Z",
     "start_time": "2023-07-01T06:41:50.000113700Z"
    }
   }
  },
  {
   "cell_type": "code",
   "execution_count": 10,
   "outputs": [
    {
     "name": "stdout",
     "output_type": "stream",
     "text": [
      "从1加到100结果是： 5050\n"
     ]
    }
   ],
   "source": [
    "n = int(input(\"请输入结束的数：\"))\n",
    "i = 1\n",
    "su = 0\n",
    "for i in range(n+1):\n",
    "    su += i\n",
    "print(\"从1加到%d结果是： %d\"%(n, su))\n",
    "\n"
   ],
   "metadata": {
    "collapsed": false,
    "ExecuteTime": {
     "end_time": "2023-07-01T06:47:00.519140Z",
     "start_time": "2023-07-01T06:46:57.191381300Z"
    }
   }
  },
  {
   "cell_type": "code",
   "execution_count": 12,
   "outputs": [
    {
     "name": "stdout",
     "output_type": "stream",
     "text": [
      "[0, 1, 2, 3, 4]\n",
      "(0, 1, 2, 3, 4)\n"
     ]
    }
   ],
   "source": [
    "a = range(5)\n",
    "print(list(a))\n",
    "print(tuple(a))"
   ],
   "metadata": {
    "collapsed": false,
    "ExecuteTime": {
     "end_time": "2023-07-01T06:52:40.297719100Z",
     "start_time": "2023-07-01T06:52:40.295703400Z"
    }
   }
  },
  {
   "cell_type": "code",
   "execution_count": 13,
   "outputs": [
    {
     "ename": "ZeroDivisionError",
     "evalue": "division by zero",
     "output_type": "error",
     "traceback": [
      "\u001B[1;31m---------------------------------------------------------------------------\u001B[0m",
      "\u001B[1;31mZeroDivisionError\u001B[0m                         Traceback (most recent call last)",
      "Cell \u001B[1;32mIn[13], line 1\u001B[0m\n\u001B[1;32m----> 1\u001B[0m \u001B[38;5;241;43m1\u001B[39;49m\u001B[38;5;241;43m/\u001B[39;49m\u001B[38;5;241;43m0\u001B[39;49m\n",
      "\u001B[1;31mZeroDivisionError\u001B[0m: division by zero"
     ]
    }
   ],
   "source": [
    "1/0"
   ],
   "metadata": {
    "collapsed": false,
    "ExecuteTime": {
     "end_time": "2023-07-01T08:07:31.144853700Z",
     "start_time": "2023-07-01T08:07:30.528391900Z"
    }
   }
  },
  {
   "cell_type": "code",
   "execution_count": 14,
   "outputs": [
    {
     "name": "stdout",
     "output_type": "stream",
     "text": [
      "代码出现除0异常，这里进行处理！\n",
      "我还在运行\n"
     ]
    }
   ],
   "source": [
    "try:\n",
    "    print(1/0)\n",
    "except Exception as e:\n",
    "    print('代码出现除0异常，这里进行处理！')\n",
    "print(\"我还在运行\")\n"
   ],
   "metadata": {
    "collapsed": false,
    "ExecuteTime": {
     "end_time": "2023-07-01T08:11:14.860184900Z",
     "start_time": "2023-07-01T08:11:14.834136600Z"
    }
   }
  },
  {
   "cell_type": "code",
   "execution_count": 15,
   "outputs": [
    {
     "name": "stdout",
     "output_type": "stream",
     "text": [
      "除0异常\n",
      "必须执行\n",
      "-------------------------------\n",
      "这里没有异常\n",
      "这里是必须执行的\n"
     ]
    }
   ],
   "source": [
    "try:\n",
    "    print(1/0)\n",
    "except Exception as e:\n",
    "    print('除0异常')\n",
    "finally:\n",
    "    print(\"必须执行\")\n",
    "print(\"-------------------------------\")\n",
    "try:\n",
    "    print(\"这里没有异常\")\n",
    "except Exception as e:\n",
    "    print(\"这句话不会输出\")\n",
    "finally:\n",
    "    print(\"这里是必须执行的\")"
   ],
   "metadata": {
    "collapsed": false,
    "ExecuteTime": {
     "end_time": "2023-07-01T08:34:13.738095800Z",
     "start_time": "2023-07-01T08:34:13.693831200Z"
    }
   }
  },
  {
   "cell_type": "code",
   "execution_count": null,
   "outputs": [],
   "source": [
    "try:\n",
    "    print(\"正常代码！\")\n",
    "except Exception as e:\n",
    "    print('将不会输出这句话')\n",
    "else:\n",
    "    print(\"这句话将被输出\")\n",
    "print(\"-------------------------------\")\n",
    "try:\n",
    "    print(1/0)\n",
    "except Exception as e:\n",
    "    print(\"这句话不会输出\")\n",
    "finally:\n",
    "    print(\"这里是必须执行的\")"
   ],
   "metadata": {
    "collapsed": false
   }
  },
  {
   "cell_type": "code",
   "execution_count": null,
   "outputs": [],
   "source": [
    "try:\n",
    "    print(\"没有异常！\")\n",
    "except Exception as e:\n",
    "    print(\"不会输出！\")\n",
    "else:\n",
    "    print(\"进入else\")\n",
    "finally:\n",
    "    print(\"必须输出！\")\n",
    "\n",
    "print(\"--------------------------\")\n",
    "\n",
    "try:\n",
    "    print(1 / 0)\n",
    "except Exception as e:\n",
    "    print(\"引发异常！\")\n",
    "else:\n",
    "    print(\"不会进入else\")\n",
    "finally:\n",
    "    print(\"必须输出！\")\n"
   ],
   "metadata": {
    "collapsed": false
   }
  }
 ],
 "metadata": {
  "kernelspec": {
   "display_name": "Python 3",
   "language": "python",
   "name": "python3"
  },
  "language_info": {
   "codemirror_mode": {
    "name": "ipython",
    "version": 2
   },
   "file_extension": ".py",
   "mimetype": "text/x-python",
   "name": "python",
   "nbconvert_exporter": "python",
   "pygments_lexer": "ipython2",
   "version": "2.7.6"
  }
 },
 "nbformat": 4,
 "nbformat_minor": 0
}
