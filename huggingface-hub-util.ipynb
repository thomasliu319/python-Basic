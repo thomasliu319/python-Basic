{
 "cells": [
  {
   "cell_type": "code",
   "execution_count": null,
   "metadata": {
    "collapsed": true
   },
   "outputs": [],
   "source": [
    "import datetime\n",
    "import os\n",
    "import threading\n",
    "\n",
    "from huggingface_hub import hf_hub_url\n",
    "from huggingface_hub.hf_api import HfApi\n",
    "from huggingface_hub.utils import filter_repo_objects\n",
    "\n",
    "# 执行命令\n",
    "def execCmd(cmd):\n",
    "    print(\"命令%s开始运行%s\" % (cmd, datetime.datetime.now()))\n",
    "    os.system(cmd)\n",
    "    print(\"命令%s结束运行%s\" % (cmd, datetime.datetime.now()))\n",
    "\n",
    "\n",
    "if __name__ == '__main__':\n",
    "    # 需下载的hf库名称\n",
    "    repo_id = \"Salesforce/blip2-opt-2.7b\"\n",
    "    # 本地存储路径\n",
    "    save_path = './blip2-opt-2.7b'\n",
    "\n",
    "    # 获取项目信息\n",
    "    _api = HfApi()\n",
    "    repo_info = _api.repo_info(\n",
    "        repo_id=repo_id,\n",
    "        repo_type=\"model\",\n",
    "        revision='main',\n",
    "        token=None,\n",
    "    )\n",
    "\n",
    "    # 获取文件信息\n",
    "    filtered_repo_files = list(\n",
    "        filter_repo_objects(\n",
    "            items=[f.rfilename for f in repo_info.siblings],\n",
    "            allow_patterns=None,\n",
    "            ignore_patterns=None,\n",
    "        )\n",
    "    )\n",
    "\n",
    "    cmds = []\n",
    "    threads = []\n",
    "\n",
    "    # 需要执行的命令列表\n",
    "    for file in filtered_repo_files:\n",
    "        # 获取路径\n",
    "        url = hf_hub_url(repo_id=repo_id, filename=file)\n",
    "        # 断点下载指令\n",
    "        cmds.append(f'wget -c {url} -P {save_path}')\n",
    "    print(cmds)\n",
    "\n",
    "    print(\"程序开始%s\" % datetime.datetime.now())\n",
    "    for cmd in cmds:\n",
    "        th = threading.Thread(target=execCmd, args=(cmd,))\n",
    "        th.start()\n",
    "        threads.append(th)\n",
    "    for th in threads:\n",
    "        th.join()\n",
    "    print(\"程序结束%s\" % datetime.datetime.now())"
   ]
  }
 ],
 "metadata": {
  "kernelspec": {
   "display_name": "Python 3",
   "language": "python",
   "name": "python3"
  },
  "language_info": {
   "codemirror_mode": {
    "name": "ipython",
    "version": 2
   },
   "file_extension": ".py",
   "mimetype": "text/x-python",
   "name": "python",
   "nbconvert_exporter": "python",
   "pygments_lexer": "ipython2",
   "version": "2.7.6"
  }
 },
 "nbformat": 4,
 "nbformat_minor": 0
}
