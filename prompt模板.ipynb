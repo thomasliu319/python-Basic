{
 "cells": [
  {
   "cell_type": "markdown",
   "source": [
    "PromptTemplate"
   ],
   "metadata": {
    "collapsed": false
   }
  },
  {
   "cell_type": "code",
   "execution_count": 6,
   "metadata": {
    "collapsed": true,
    "ExecuteTime": {
     "start_time": "2024-07-25T11:06:27.190287Z",
     "end_time": "2024-07-25T11:06:27.217100Z"
    }
   },
   "outputs": [],
   "source": [
    "#字符模板\n",
    "from langchain.prompts import PromptTemplate\n",
    "\n",
    "prompt = PromptTemplate.from_template(\"你是一个{name},帮我起一个具有{county}特色的{sex}名字\");\n",
    "prompt.format(name=\"算命先生\", county=\"法国\", sex=\"女孩\");\n"
   ]
  },
  {
   "cell_type": "markdown",
   "source": [
    "ChatPromptTemplate"
   ],
   "metadata": {
    "collapsed": false
   }
  },
  {
   "cell_type": "code",
   "execution_count": 5,
   "outputs": [
    {
     "data": {
      "text/plain": "[SystemMessage(content='你是一个起名大师，你的名字叫陈大师.', additional_kwargs={}),\n HumanMessage(content='你好陈大师，你感觉如何？', additional_kwargs={}, example=False),\n AIMessage(content='你好!我状态非常好！', additional_kwargs={}, example=False),\n HumanMessage(content='你叫什么名字呢？', additional_kwargs={}, example=False),\n AIMessage(content='你好，我叫陈大师', additional_kwargs={}, example=False),\n HumanMessage(content='你的爸爸是谁呢？', additional_kwargs={}, example=False)]"
     },
     "execution_count": 5,
     "metadata": {},
     "output_type": "execute_result"
    }
   ],
   "source": [
    "#对话模版具有结构，chatmodels\n",
    "from langchain.prompts import ChatPromptTemplate\n",
    "\n",
    "chat_template = ChatPromptTemplate.from_messages(\n",
    "    [\n",
    "        (\"system\", \"你是一个起名大师，你的名字叫{name}.\"),\n",
    "        (\"human\", \"你好{name}，你感觉如何？\"),\n",
    "        (\"ai\", \"你好!我状态非常好！\"),\n",
    "        (\"human\", \"你叫什么名字呢？\"),\n",
    "        (\"ai\", \"你好，我叫{name}\"),\n",
    "        (\"human\", \"{user_input}\")\n",
    "    ]\n",
    ")\n",
    "\n",
    "chat_template.format_messages(name=\"陈大师\", user_input=\"你的爸爸是谁呢？\")"
   ],
   "metadata": {
    "collapsed": false,
    "ExecuteTime": {
     "start_time": "2024-07-25T11:06:09.405342Z",
     "end_time": "2024-07-25T11:06:09.469611Z"
    }
   }
  },
  {
   "cell_type": "markdown",
   "source": [],
   "metadata": {
    "collapsed": false
   }
  },
  {
   "cell_type": "code",
   "execution_count": 10,
   "outputs": [
    {
     "data": {
      "text/plain": "[SystemMessage(content='你是一个起名大师', additional_kwargs={}),\n HumanMessage(content='请问大师叫什么？', additional_kwargs={}, example=False),\n AIMessage(content='我叫陈瞎子', additional_kwargs={}, example=False)]"
     },
     "execution_count": 10,
     "metadata": {},
     "output_type": "execute_result"
    }
   ],
   "source": [
    "from langchain.schema import SystemMessage\n",
    "from langchain.schema import HumanMessage\n",
    "from langchain.schema import AIMessage\n",
    "\n",
    "#直接创建消息\n",
    "sy = SystemMessage(\n",
    "    content = \"你是一个起名大师\"\n",
    ")\n",
    "\n",
    "hu = HumanMessage(\n",
    "    content = \"请问大师叫什么？\"\n",
    ")\n",
    "\n",
    "ai = AIMessage(\n",
    "    content = \"我叫陈瞎子\"\n",
    ")\n",
    "\n",
    "[sy, hu, ai]"
   ],
   "metadata": {
    "collapsed": false,
    "ExecuteTime": {
     "start_time": "2024-07-25T11:19:01.602336Z",
     "end_time": "2024-07-25T11:19:01.614443Z"
    }
   }
  },
  {
   "cell_type": "markdown",
   "source": [
    "自定义模板"
   ],
   "metadata": {
    "collapsed": false
   }
  },
  {
   "cell_type": "code",
   "execution_count": 13,
   "outputs": [
    {
     "ename": "IndentationError",
     "evalue": "unindent does not match any outer indentation level (<tokenize>, line 34)",
     "output_type": "error",
     "traceback": [
      "\u001B[0;36m  File \u001B[0;32m<tokenize>:34\u001B[0;36m\u001B[0m\n\u001B[0;31m    return prompt\u001B[0m\n\u001B[0m    ^\u001B[0m\n\u001B[0;31mIndentationError\u001B[0m\u001B[0;31m:\u001B[0m unindent does not match any outer indentation level\n"
     ]
    }
   ],
   "source": [
    "##函数大师：根据函数名称，查找函数代码，并给出中文的代码说明\n",
    "\n",
    "from langchain.prompts import StringPromptTemplate\n",
    "\n",
    "#定义一个简单的函数作为示例效果\n",
    "def hello_world(abc):\n",
    "    print(\"hello, world!\")\n",
    "    return abc;\n",
    "\n",
    "PROMPT = \"\"\"\\\n",
    "你是非常有经验和天赋的程序员，现在给你如下函数名称，你会按照如下格式，输出这段代码的名称、源代码、中文注释。\n",
    "函数名称：{function_name}\n",
    "源代码：{source_code}\n",
    "代码注释：\n",
    "         \"\"\"\n",
    "\n",
    "import inspect\n",
    "\n",
    "def get_source_code(function_name):\n",
    "    #获得源代码\n",
    "    return inspect.getsource(function_name);\n",
    "\n",
    "#自定义的模板class\n",
    "class CustomPrompt(StringPromptTemplate):\n",
    "\n",
    "     def format(self, **kwargs) -> str:\n",
    "        # 获得源代码\n",
    "        source_code = get_source_code(kwargs[\"function_name\"])\n",
    "\n",
    "        # 生成提示词模板\n",
    "        prompt = PROMPT.format(\n",
    "            function_name=kwargs[\"function_name\"].__name__, source_code=source_code\n",
    "        )\n",
    "    return prompt\n",
    "\n",
    "    a = CustmPrompt(input_variables=[\"function_name\"])\n",
    "    pm = a.format(function_name=hello_world)\n",
    "\n",
    "    print(pm)"
   ],
   "metadata": {
    "collapsed": false
   }
  },
  {
   "cell_type": "code",
   "execution_count": null,
   "outputs": [],
   "source": [],
   "metadata": {
    "collapsed": false
   }
  }
 ],
 "metadata": {
  "kernelspec": {
   "display_name": "Python 3",
   "language": "python",
   "name": "python3"
  },
  "language_info": {
   "codemirror_mode": {
    "name": "ipython",
    "version": 2
   },
   "file_extension": ".py",
   "mimetype": "text/x-python",
   "name": "python",
   "nbconvert_exporter": "python",
   "pygments_lexer": "ipython2",
   "version": "2.7.6"
  }
 },
 "nbformat": 4,
 "nbformat_minor": 0
}
